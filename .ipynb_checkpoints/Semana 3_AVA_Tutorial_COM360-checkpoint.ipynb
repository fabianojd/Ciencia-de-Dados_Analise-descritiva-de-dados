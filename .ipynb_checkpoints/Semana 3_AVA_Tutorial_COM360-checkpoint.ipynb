{
 "cells": [
  {
   "cell_type": "markdown",
   "metadata": {
    "id": "5oxNW8e7rws3"
   },
   "source": [
    "## Mineração de dados - Semana 3: \n",
    "### Exercício sobre análise descritiva de dados (ADD)\n",
    "\n",
    "Neste exercício, iremos fazer a análise descritiva de uma base de dados com o objetivo de aplicar o conteúdo visto nesta semana. \n",
    "\n",
    "1. Crie um novo notebook e inclua uma descrição para ele. \n",
    "\n",
    "2. Nesta atividade, além da biblioteca **pandas**, vamos importar as bibliotecas **seaborn** e **matplotlib** para gerar os gráficos."
   ]
  },
  {
   "cell_type": "code",
   "execution_count": 1,
   "metadata": {
    "id": "NUj8NkxkrIfY"
   },
   "outputs": [],
   "source": [
    "import pandas as pd\n",
    "import seaborn as sb\n",
    "import matplotlib.pyplot as plt\n",
    "\n",
    "sb.set(rc={'figure.figsize':(15,8)})"
   ]
  },
  {
   "cell_type": "markdown",
   "metadata": {
    "id": "LBnPlvFHmVEH"
   },
   "source": [
    "A base de dados deste exercício é a \"Quantidade de alunos por tipo de ensino\" da rede estadual de São Paulo de 2021. A base tem 25 atributos, entre os quais estão:\n",
    "\n",
    "* **MUN**: município\n",
    "* **ZONA**: zona (1 = urbana, 2 - rural)\n",
    "* **ANOS INICIAIS**: Anos iniciais do ensino fundamental\n",
    "* **ANOS FINAIS**: Anos finais do ensino fundamental\n",
    "* **ENSINO MEDIO**: Anos iniciais do ensino fundamental\n",
    "\n",
    "Os dados estão sendo importados diretamente do [Portal de Dados Abertos da Educação do Estado de São Paulo](https://dados.educacao.sp.gov.br/dataset/quantidade-de-alunos-por-tipo-de-ensino-da-rede-estadual).\n",
    "O dicionário de dados está disponível neste [link](https://dados.educacao.sp.gov.br/dicion%C3%A1rio-de-dados-de-quantidade-de-alunos-por-tipo-de-ensino)\n",
    "\n",
    "3. Importe a base de dados direto da URL a seguir e verifique as primeiras linhas. O arquivo contém 50 registros. Olhando os 20 primeiros, podemos observar que há valores ausentes nos atributos **idade**, **uf** e **renda**. \n",
    "\n"
   ]
  },
  {
   "cell_type": "code",
   "execution_count": 2,
   "metadata": {
    "colab": {
     "base_uri": "https://localhost:8080/",
     "height": 1000
    },
    "id": "IkJ7aj7MtSD1",
    "outputId": "d23a56ae-702a-4050-9a0f-ad5fb2b53cf9"
   },
   "outputs": [
    {
     "data": {
      "text/html": [
       "<div>\n",
       "<style scoped>\n",
       "    .dataframe tbody tr th:only-of-type {\n",
       "        vertical-align: middle;\n",
       "    }\n",
       "\n",
       "    .dataframe tbody tr th {\n",
       "        vertical-align: top;\n",
       "    }\n",
       "\n",
       "    .dataframe thead th {\n",
       "        text-align: right;\n",
       "    }\n",
       "</style>\n",
       "<table border=\"1\" class=\"dataframe\">\n",
       "  <thead>\n",
       "    <tr style=\"text-align: right;\">\n",
       "      <th></th>\n",
       "      <th>CDREDE</th>\n",
       "      <th>DE</th>\n",
       "      <th>CODMUN</th>\n",
       "      <th>MUN</th>\n",
       "      <th>CATEG</th>\n",
       "      <th>COD_ESC</th>\n",
       "      <th>TIPOESC</th>\n",
       "      <th>CODVINC</th>\n",
       "      <th>NOMESC</th>\n",
       "      <th>ENDESC</th>\n",
       "      <th>...</th>\n",
       "      <th>ZONA</th>\n",
       "      <th>ED_INFANTIL</th>\n",
       "      <th>CLASSES ESPECIAIS</th>\n",
       "      <th>SALA DE RECURSO</th>\n",
       "      <th>ANOS INICIAIS</th>\n",
       "      <th>ANOS FINAIS</th>\n",
       "      <th>ENSINO MEDIO</th>\n",
       "      <th>EJA FUNDAMENTA_AI</th>\n",
       "      <th>EJA FUNDAMENTAL_AF</th>\n",
       "      <th>EJA ENSINO MEDIO</th>\n",
       "    </tr>\n",
       "  </thead>\n",
       "  <tbody>\n",
       "    <tr>\n",
       "      <th>0</th>\n",
       "      <td>10101</td>\n",
       "      <td>NORTE 1</td>\n",
       "      <td>100</td>\n",
       "      <td>SAO PAULO</td>\n",
       "      <td>1</td>\n",
       "      <td>73</td>\n",
       "      <td>8</td>\n",
       "      <td>NaN</td>\n",
       "      <td>JULIO DE FARIA E SOUZA PROFESSOR</td>\n",
       "      <td>POMPEU PEQUENO DE SOUZA BRASIL</td>\n",
       "      <td>...</td>\n",
       "      <td>1.0</td>\n",
       "      <td>0</td>\n",
       "      <td>0</td>\n",
       "      <td>0</td>\n",
       "      <td>456</td>\n",
       "      <td>0</td>\n",
       "      <td>0</td>\n",
       "      <td>0</td>\n",
       "      <td>0</td>\n",
       "      <td>0</td>\n",
       "    </tr>\n",
       "    <tr>\n",
       "      <th>1</th>\n",
       "      <td>10101</td>\n",
       "      <td>NORTE 1</td>\n",
       "      <td>100</td>\n",
       "      <td>SAO PAULO</td>\n",
       "      <td>1</td>\n",
       "      <td>127</td>\n",
       "      <td>8</td>\n",
       "      <td>NaN</td>\n",
       "      <td>JOSE ALTENFELDER SILVA PROFESSOR</td>\n",
       "      <td>CARLOS ALBERTO VANZOLINI</td>\n",
       "      <td>...</td>\n",
       "      <td>1.0</td>\n",
       "      <td>0</td>\n",
       "      <td>0</td>\n",
       "      <td>9</td>\n",
       "      <td>717</td>\n",
       "      <td>0</td>\n",
       "      <td>0</td>\n",
       "      <td>0</td>\n",
       "      <td>0</td>\n",
       "      <td>0</td>\n",
       "    </tr>\n",
       "    <tr>\n",
       "      <th>2</th>\n",
       "      <td>10101</td>\n",
       "      <td>NORTE 1</td>\n",
       "      <td>100</td>\n",
       "      <td>SAO PAULO</td>\n",
       "      <td>1</td>\n",
       "      <td>139</td>\n",
       "      <td>8</td>\n",
       "      <td>NaN</td>\n",
       "      <td>MARIANO DE OLIVEIRA PROFESSOR</td>\n",
       "      <td>RUA ALMIRANTE ISAIAS DE NORONHA</td>\n",
       "      <td>...</td>\n",
       "      <td>1.0</td>\n",
       "      <td>0</td>\n",
       "      <td>0</td>\n",
       "      <td>0</td>\n",
       "      <td>0</td>\n",
       "      <td>372</td>\n",
       "      <td>1200</td>\n",
       "      <td>0</td>\n",
       "      <td>0</td>\n",
       "      <td>240</td>\n",
       "    </tr>\n",
       "    <tr>\n",
       "      <th>3</th>\n",
       "      <td>10101</td>\n",
       "      <td>NORTE 1</td>\n",
       "      <td>100</td>\n",
       "      <td>SAO PAULO</td>\n",
       "      <td>1</td>\n",
       "      <td>164</td>\n",
       "      <td>8</td>\n",
       "      <td>NaN</td>\n",
       "      <td>PIO TELLES PEIXOTO PROFESSOR</td>\n",
       "      <td>ARTUR ORLANDO</td>\n",
       "      <td>...</td>\n",
       "      <td>1.0</td>\n",
       "      <td>0</td>\n",
       "      <td>0</td>\n",
       "      <td>10</td>\n",
       "      <td>0</td>\n",
       "      <td>251</td>\n",
       "      <td>336</td>\n",
       "      <td>0</td>\n",
       "      <td>0</td>\n",
       "      <td>63</td>\n",
       "    </tr>\n",
       "    <tr>\n",
       "      <th>4</th>\n",
       "      <td>10101</td>\n",
       "      <td>NORTE 1</td>\n",
       "      <td>100</td>\n",
       "      <td>SAO PAULO</td>\n",
       "      <td>1</td>\n",
       "      <td>231</td>\n",
       "      <td>8</td>\n",
       "      <td>NaN</td>\n",
       "      <td>CHIQUINHA RODRIGUES</td>\n",
       "      <td>CAIAPE</td>\n",
       "      <td>...</td>\n",
       "      <td>1.0</td>\n",
       "      <td>0</td>\n",
       "      <td>3</td>\n",
       "      <td>28</td>\n",
       "      <td>987</td>\n",
       "      <td>0</td>\n",
       "      <td>0</td>\n",
       "      <td>0</td>\n",
       "      <td>0</td>\n",
       "      <td>0</td>\n",
       "    </tr>\n",
       "    <tr>\n",
       "      <th>5</th>\n",
       "      <td>10101</td>\n",
       "      <td>NORTE 1</td>\n",
       "      <td>100</td>\n",
       "      <td>SAO PAULO</td>\n",
       "      <td>1</td>\n",
       "      <td>243</td>\n",
       "      <td>8</td>\n",
       "      <td>NaN</td>\n",
       "      <td>ISABEL VIEIRA DE SERPA E PAIVA PROFESSORA</td>\n",
       "      <td>JERIMANDUBA</td>\n",
       "      <td>...</td>\n",
       "      <td>1.0</td>\n",
       "      <td>0</td>\n",
       "      <td>0</td>\n",
       "      <td>28</td>\n",
       "      <td>462</td>\n",
       "      <td>0</td>\n",
       "      <td>0</td>\n",
       "      <td>0</td>\n",
       "      <td>0</td>\n",
       "      <td>0</td>\n",
       "    </tr>\n",
       "    <tr>\n",
       "      <th>6</th>\n",
       "      <td>10101</td>\n",
       "      <td>NORTE 1</td>\n",
       "      <td>100</td>\n",
       "      <td>SAO PAULO</td>\n",
       "      <td>1</td>\n",
       "      <td>395</td>\n",
       "      <td>8</td>\n",
       "      <td>NaN</td>\n",
       "      <td>JOAQUIM LUIZ DE BRITO PROFESSOR</td>\n",
       "      <td>RUA SANTA LUCIA FILIPPINI</td>\n",
       "      <td>...</td>\n",
       "      <td>1.0</td>\n",
       "      <td>0</td>\n",
       "      <td>0</td>\n",
       "      <td>0</td>\n",
       "      <td>0</td>\n",
       "      <td>280</td>\n",
       "      <td>413</td>\n",
       "      <td>0</td>\n",
       "      <td>0</td>\n",
       "      <td>157</td>\n",
       "    </tr>\n",
       "    <tr>\n",
       "      <th>7</th>\n",
       "      <td>10101</td>\n",
       "      <td>NORTE 1</td>\n",
       "      <td>100</td>\n",
       "      <td>SAO PAULO</td>\n",
       "      <td>1</td>\n",
       "      <td>644</td>\n",
       "      <td>8</td>\n",
       "      <td>NaN</td>\n",
       "      <td>PIO XII</td>\n",
       "      <td>OTAVIO DOMINGUITO</td>\n",
       "      <td>...</td>\n",
       "      <td>1.0</td>\n",
       "      <td>0</td>\n",
       "      <td>0</td>\n",
       "      <td>0</td>\n",
       "      <td>322</td>\n",
       "      <td>0</td>\n",
       "      <td>0</td>\n",
       "      <td>0</td>\n",
       "      <td>0</td>\n",
       "      <td>0</td>\n",
       "    </tr>\n",
       "    <tr>\n",
       "      <th>8</th>\n",
       "      <td>10101</td>\n",
       "      <td>NORTE 1</td>\n",
       "      <td>100</td>\n",
       "      <td>SAO PAULO</td>\n",
       "      <td>1</td>\n",
       "      <td>36959</td>\n",
       "      <td>8</td>\n",
       "      <td>NaN</td>\n",
       "      <td>MANUEL BANDEIRA</td>\n",
       "      <td>JULIO CESAR LEAL</td>\n",
       "      <td>...</td>\n",
       "      <td>1.0</td>\n",
       "      <td>0</td>\n",
       "      <td>0</td>\n",
       "      <td>0</td>\n",
       "      <td>0</td>\n",
       "      <td>432</td>\n",
       "      <td>997</td>\n",
       "      <td>0</td>\n",
       "      <td>0</td>\n",
       "      <td>147</td>\n",
       "    </tr>\n",
       "    <tr>\n",
       "      <th>9</th>\n",
       "      <td>10101</td>\n",
       "      <td>NORTE 1</td>\n",
       "      <td>100</td>\n",
       "      <td>SAO PAULO</td>\n",
       "      <td>1</td>\n",
       "      <td>37655</td>\n",
       "      <td>8</td>\n",
       "      <td>NaN</td>\n",
       "      <td>UBALDO COSTA LEITE DOUTOR</td>\n",
       "      <td>JOSE DA COSTA PEREIRA</td>\n",
       "      <td>...</td>\n",
       "      <td>1.0</td>\n",
       "      <td>0</td>\n",
       "      <td>0</td>\n",
       "      <td>0</td>\n",
       "      <td>0</td>\n",
       "      <td>573</td>\n",
       "      <td>714</td>\n",
       "      <td>0</td>\n",
       "      <td>0</td>\n",
       "      <td>0</td>\n",
       "    </tr>\n",
       "    <tr>\n",
       "      <th>10</th>\n",
       "      <td>10101</td>\n",
       "      <td>NORTE 1</td>\n",
       "      <td>100</td>\n",
       "      <td>SAO PAULO</td>\n",
       "      <td>1</td>\n",
       "      <td>37709</td>\n",
       "      <td>8</td>\n",
       "      <td>NaN</td>\n",
       "      <td>CARLOS FREDERICO WERNECK LACERDA JORNALISTA</td>\n",
       "      <td>CONCEICAO DO NORTE</td>\n",
       "      <td>...</td>\n",
       "      <td>1.0</td>\n",
       "      <td>0</td>\n",
       "      <td>0</td>\n",
       "      <td>0</td>\n",
       "      <td>0</td>\n",
       "      <td>414</td>\n",
       "      <td>525</td>\n",
       "      <td>0</td>\n",
       "      <td>0</td>\n",
       "      <td>267</td>\n",
       "    </tr>\n",
       "    <tr>\n",
       "      <th>11</th>\n",
       "      <td>10101</td>\n",
       "      <td>NORTE 1</td>\n",
       "      <td>100</td>\n",
       "      <td>SAO PAULO</td>\n",
       "      <td>1</td>\n",
       "      <td>38097</td>\n",
       "      <td>8</td>\n",
       "      <td>NaN</td>\n",
       "      <td>ITALO BETARELLO</td>\n",
       "      <td>ANDRESA</td>\n",
       "      <td>...</td>\n",
       "      <td>1.0</td>\n",
       "      <td>0</td>\n",
       "      <td>0</td>\n",
       "      <td>20</td>\n",
       "      <td>0</td>\n",
       "      <td>670</td>\n",
       "      <td>823</td>\n",
       "      <td>0</td>\n",
       "      <td>0</td>\n",
       "      <td>0</td>\n",
       "    </tr>\n",
       "    <tr>\n",
       "      <th>12</th>\n",
       "      <td>10101</td>\n",
       "      <td>NORTE 1</td>\n",
       "      <td>100</td>\n",
       "      <td>SAO PAULO</td>\n",
       "      <td>1</td>\n",
       "      <td>40460</td>\n",
       "      <td>8</td>\n",
       "      <td>NaN</td>\n",
       "      <td>OSMAR BASTOS CONCEICAO PROFESSOR</td>\n",
       "      <td>PINHEIRO DE FARIA</td>\n",
       "      <td>...</td>\n",
       "      <td>1.0</td>\n",
       "      <td>0</td>\n",
       "      <td>0</td>\n",
       "      <td>0</td>\n",
       "      <td>482</td>\n",
       "      <td>0</td>\n",
       "      <td>0</td>\n",
       "      <td>0</td>\n",
       "      <td>0</td>\n",
       "      <td>0</td>\n",
       "    </tr>\n",
       "    <tr>\n",
       "      <th>13</th>\n",
       "      <td>10101</td>\n",
       "      <td>NORTE 1</td>\n",
       "      <td>100</td>\n",
       "      <td>SAO PAULO</td>\n",
       "      <td>1</td>\n",
       "      <td>44261</td>\n",
       "      <td>8</td>\n",
       "      <td>NaN</td>\n",
       "      <td>ZORAIDE DE CAMPOS HELU PROFESSORA</td>\n",
       "      <td>GIOVANI PALADINO</td>\n",
       "      <td>...</td>\n",
       "      <td>1.0</td>\n",
       "      <td>0</td>\n",
       "      <td>0</td>\n",
       "      <td>0</td>\n",
       "      <td>234</td>\n",
       "      <td>129</td>\n",
       "      <td>206</td>\n",
       "      <td>0</td>\n",
       "      <td>0</td>\n",
       "      <td>0</td>\n",
       "    </tr>\n",
       "    <tr>\n",
       "      <th>14</th>\n",
       "      <td>10101</td>\n",
       "      <td>NORTE 1</td>\n",
       "      <td>100</td>\n",
       "      <td>SAO PAULO</td>\n",
       "      <td>1</td>\n",
       "      <td>46255</td>\n",
       "      <td>8</td>\n",
       "      <td>NaN</td>\n",
       "      <td>CARLOS BORBA PROFESSOR</td>\n",
       "      <td>RUA JOANA PEDROSO DOS SANTOS</td>\n",
       "      <td>...</td>\n",
       "      <td>1.0</td>\n",
       "      <td>0</td>\n",
       "      <td>0</td>\n",
       "      <td>0</td>\n",
       "      <td>749</td>\n",
       "      <td>0</td>\n",
       "      <td>0</td>\n",
       "      <td>0</td>\n",
       "      <td>0</td>\n",
       "      <td>354</td>\n",
       "    </tr>\n",
       "    <tr>\n",
       "      <th>15</th>\n",
       "      <td>10101</td>\n",
       "      <td>NORTE 1</td>\n",
       "      <td>100</td>\n",
       "      <td>SAO PAULO</td>\n",
       "      <td>1</td>\n",
       "      <td>46267</td>\n",
       "      <td>8</td>\n",
       "      <td>NaN</td>\n",
       "      <td>JOAO NOGUEIRA LOTUFO PROFESSOR</td>\n",
       "      <td>JOSE MARCOS DE ALBUQUERQUE</td>\n",
       "      <td>...</td>\n",
       "      <td>1.0</td>\n",
       "      <td>0</td>\n",
       "      <td>0</td>\n",
       "      <td>5</td>\n",
       "      <td>455</td>\n",
       "      <td>0</td>\n",
       "      <td>0</td>\n",
       "      <td>0</td>\n",
       "      <td>0</td>\n",
       "      <td>0</td>\n",
       "    </tr>\n",
       "    <tr>\n",
       "      <th>16</th>\n",
       "      <td>10101</td>\n",
       "      <td>NORTE 1</td>\n",
       "      <td>100</td>\n",
       "      <td>SAO PAULO</td>\n",
       "      <td>1</td>\n",
       "      <td>48598</td>\n",
       "      <td>8</td>\n",
       "      <td>NaN</td>\n",
       "      <td>PAULO TRAJANO DA SILVEIRA SANTOS PROFESSOR</td>\n",
       "      <td>PRAIA DO TUMIARU</td>\n",
       "      <td>...</td>\n",
       "      <td>1.0</td>\n",
       "      <td>0</td>\n",
       "      <td>0</td>\n",
       "      <td>4</td>\n",
       "      <td>558</td>\n",
       "      <td>0</td>\n",
       "      <td>0</td>\n",
       "      <td>0</td>\n",
       "      <td>0</td>\n",
       "      <td>0</td>\n",
       "    </tr>\n",
       "    <tr>\n",
       "      <th>17</th>\n",
       "      <td>10101</td>\n",
       "      <td>NORTE 1</td>\n",
       "      <td>100</td>\n",
       "      <td>SAO PAULO</td>\n",
       "      <td>1</td>\n",
       "      <td>72503</td>\n",
       "      <td>8</td>\n",
       "      <td>NaN</td>\n",
       "      <td>ELIZABETH APARECIDA SIMOES MESQUITA PROFESSORA</td>\n",
       "      <td>JOSE DA NATIVIDADE SALDANHA</td>\n",
       "      <td>...</td>\n",
       "      <td>1.0</td>\n",
       "      <td>0</td>\n",
       "      <td>0</td>\n",
       "      <td>0</td>\n",
       "      <td>0</td>\n",
       "      <td>407</td>\n",
       "      <td>260</td>\n",
       "      <td>0</td>\n",
       "      <td>0</td>\n",
       "      <td>0</td>\n",
       "    </tr>\n",
       "    <tr>\n",
       "      <th>18</th>\n",
       "      <td>10101</td>\n",
       "      <td>NORTE 1</td>\n",
       "      <td>100</td>\n",
       "      <td>SAO PAULO</td>\n",
       "      <td>1</td>\n",
       "      <td>130321</td>\n",
       "      <td>8</td>\n",
       "      <td>NaN</td>\n",
       "      <td>THAYANE LUZIMARA COSTA VALCACER PROFESSORA</td>\n",
       "      <td>FRIEDRICH VON VOITH</td>\n",
       "      <td>...</td>\n",
       "      <td>1.0</td>\n",
       "      <td>0</td>\n",
       "      <td>0</td>\n",
       "      <td>0</td>\n",
       "      <td>286</td>\n",
       "      <td>319</td>\n",
       "      <td>279</td>\n",
       "      <td>0</td>\n",
       "      <td>0</td>\n",
       "      <td>0</td>\n",
       "    </tr>\n",
       "    <tr>\n",
       "      <th>19</th>\n",
       "      <td>10101</td>\n",
       "      <td>NORTE 1</td>\n",
       "      <td>100</td>\n",
       "      <td>SAO PAULO</td>\n",
       "      <td>1</td>\n",
       "      <td>130333</td>\n",
       "      <td>8</td>\n",
       "      <td>NaN</td>\n",
       "      <td>REPUBLICA DA COLOMBIA</td>\n",
       "      <td>RENDEIRA</td>\n",
       "      <td>...</td>\n",
       "      <td>1.0</td>\n",
       "      <td>0</td>\n",
       "      <td>0</td>\n",
       "      <td>0</td>\n",
       "      <td>0</td>\n",
       "      <td>261</td>\n",
       "      <td>511</td>\n",
       "      <td>0</td>\n",
       "      <td>0</td>\n",
       "      <td>0</td>\n",
       "    </tr>\n",
       "  </tbody>\n",
       "</table>\n",
       "<p>20 rows × 24 columns</p>\n",
       "</div>"
      ],
      "text/plain": [
       "    CDREDE       DE  CODMUN        MUN  CATEG  COD_ESC  TIPOESC  CODVINC  \\\n",
       "0    10101  NORTE 1     100  SAO PAULO      1       73        8      NaN   \n",
       "1    10101  NORTE 1     100  SAO PAULO      1      127        8      NaN   \n",
       "2    10101  NORTE 1     100  SAO PAULO      1      139        8      NaN   \n",
       "3    10101  NORTE 1     100  SAO PAULO      1      164        8      NaN   \n",
       "4    10101  NORTE 1     100  SAO PAULO      1      231        8      NaN   \n",
       "5    10101  NORTE 1     100  SAO PAULO      1      243        8      NaN   \n",
       "6    10101  NORTE 1     100  SAO PAULO      1      395        8      NaN   \n",
       "7    10101  NORTE 1     100  SAO PAULO      1      644        8      NaN   \n",
       "8    10101  NORTE 1     100  SAO PAULO      1    36959        8      NaN   \n",
       "9    10101  NORTE 1     100  SAO PAULO      1    37655        8      NaN   \n",
       "10   10101  NORTE 1     100  SAO PAULO      1    37709        8      NaN   \n",
       "11   10101  NORTE 1     100  SAO PAULO      1    38097        8      NaN   \n",
       "12   10101  NORTE 1     100  SAO PAULO      1    40460        8      NaN   \n",
       "13   10101  NORTE 1     100  SAO PAULO      1    44261        8      NaN   \n",
       "14   10101  NORTE 1     100  SAO PAULO      1    46255        8      NaN   \n",
       "15   10101  NORTE 1     100  SAO PAULO      1    46267        8      NaN   \n",
       "16   10101  NORTE 1     100  SAO PAULO      1    48598        8      NaN   \n",
       "17   10101  NORTE 1     100  SAO PAULO      1    72503        8      NaN   \n",
       "18   10101  NORTE 1     100  SAO PAULO      1   130321        8      NaN   \n",
       "19   10101  NORTE 1     100  SAO PAULO      1   130333        8      NaN   \n",
       "\n",
       "                                            NOMESC  \\\n",
       "0                 JULIO DE FARIA E SOUZA PROFESSOR   \n",
       "1                 JOSE ALTENFELDER SILVA PROFESSOR   \n",
       "2                    MARIANO DE OLIVEIRA PROFESSOR   \n",
       "3                     PIO TELLES PEIXOTO PROFESSOR   \n",
       "4                              CHIQUINHA RODRIGUES   \n",
       "5        ISABEL VIEIRA DE SERPA E PAIVA PROFESSORA   \n",
       "6                  JOAQUIM LUIZ DE BRITO PROFESSOR   \n",
       "7                                          PIO XII   \n",
       "8                                  MANUEL BANDEIRA   \n",
       "9                        UBALDO COSTA LEITE DOUTOR   \n",
       "10     CARLOS FREDERICO WERNECK LACERDA JORNALISTA   \n",
       "11                                 ITALO BETARELLO   \n",
       "12                OSMAR BASTOS CONCEICAO PROFESSOR   \n",
       "13               ZORAIDE DE CAMPOS HELU PROFESSORA   \n",
       "14                          CARLOS BORBA PROFESSOR   \n",
       "15                  JOAO NOGUEIRA LOTUFO PROFESSOR   \n",
       "16      PAULO TRAJANO DA SILVEIRA SANTOS PROFESSOR   \n",
       "17  ELIZABETH APARECIDA SIMOES MESQUITA PROFESSORA   \n",
       "18      THAYANE LUZIMARA COSTA VALCACER PROFESSORA   \n",
       "19                           REPUBLICA DA COLOMBIA   \n",
       "\n",
       "                             ENDESC  ... ZONA ED_INFANTIL CLASSES ESPECIAIS  \\\n",
       "0    POMPEU PEQUENO DE SOUZA BRASIL  ...  1.0           0                 0   \n",
       "1          CARLOS ALBERTO VANZOLINI  ...  1.0           0                 0   \n",
       "2   RUA ALMIRANTE ISAIAS DE NORONHA  ...  1.0           0                 0   \n",
       "3                     ARTUR ORLANDO  ...  1.0           0                 0   \n",
       "4                            CAIAPE  ...  1.0           0                 3   \n",
       "5                       JERIMANDUBA  ...  1.0           0                 0   \n",
       "6         RUA SANTA LUCIA FILIPPINI  ...  1.0           0                 0   \n",
       "7                 OTAVIO DOMINGUITO  ...  1.0           0                 0   \n",
       "8                  JULIO CESAR LEAL  ...  1.0           0                 0   \n",
       "9             JOSE DA COSTA PEREIRA  ...  1.0           0                 0   \n",
       "10               CONCEICAO DO NORTE  ...  1.0           0                 0   \n",
       "11                          ANDRESA  ...  1.0           0                 0   \n",
       "12                PINHEIRO DE FARIA  ...  1.0           0                 0   \n",
       "13                 GIOVANI PALADINO  ...  1.0           0                 0   \n",
       "14     RUA JOANA PEDROSO DOS SANTOS  ...  1.0           0                 0   \n",
       "15       JOSE MARCOS DE ALBUQUERQUE  ...  1.0           0                 0   \n",
       "16                 PRAIA DO TUMIARU  ...  1.0           0                 0   \n",
       "17      JOSE DA NATIVIDADE SALDANHA  ...  1.0           0                 0   \n",
       "18              FRIEDRICH VON VOITH  ...  1.0           0                 0   \n",
       "19                         RENDEIRA  ...  1.0           0                 0   \n",
       "\n",
       "    SALA DE RECURSO  ANOS INICIAIS  ANOS FINAIS  ENSINO MEDIO  \\\n",
       "0                 0            456            0             0   \n",
       "1                 9            717            0             0   \n",
       "2                 0              0          372          1200   \n",
       "3                10              0          251           336   \n",
       "4                28            987            0             0   \n",
       "5                28            462            0             0   \n",
       "6                 0              0          280           413   \n",
       "7                 0            322            0             0   \n",
       "8                 0              0          432           997   \n",
       "9                 0              0          573           714   \n",
       "10                0              0          414           525   \n",
       "11               20              0          670           823   \n",
       "12                0            482            0             0   \n",
       "13                0            234          129           206   \n",
       "14                0            749            0             0   \n",
       "15                5            455            0             0   \n",
       "16                4            558            0             0   \n",
       "17                0              0          407           260   \n",
       "18                0            286          319           279   \n",
       "19                0              0          261           511   \n",
       "\n",
       "    EJA FUNDAMENTA_AI  EJA FUNDAMENTAL_AF  EJA ENSINO MEDIO  \n",
       "0                   0                   0                 0  \n",
       "1                   0                   0                 0  \n",
       "2                   0                   0               240  \n",
       "3                   0                   0                63  \n",
       "4                   0                   0                 0  \n",
       "5                   0                   0                 0  \n",
       "6                   0                   0               157  \n",
       "7                   0                   0                 0  \n",
       "8                   0                   0               147  \n",
       "9                   0                   0                 0  \n",
       "10                  0                   0               267  \n",
       "11                  0                   0                 0  \n",
       "12                  0                   0                 0  \n",
       "13                  0                   0                 0  \n",
       "14                  0                   0               354  \n",
       "15                  0                   0                 0  \n",
       "16                  0                   0                 0  \n",
       "17                  0                   0                 0  \n",
       "18                  0                   0                 0  \n",
       "19                  0                   0                 0  \n",
       "\n",
       "[20 rows x 24 columns]"
      ]
     },
     "execution_count": 2,
     "metadata": {},
     "output_type": "execute_result"
    }
   ],
   "source": [
    "url = 'https://dados.educacao.sp.gov.br/sites/default/files/Quantidade%20de%20alunos%20por%20tipo%20de%20ensino%20da%20rede%20estadual%20-%202021.csv'\n",
    "escolas = pd.read_csv(url)\n",
    "escolas.head(20)"
   ]
  },
  {
   "cell_type": "markdown",
   "metadata": {
    "id": "Gx7qDSMx8tyE"
   },
   "source": [
    "4. A função **info()**) mostra que há 5351 registros para a maioria dos atributos, portanto é o número de escolas."
   ]
  },
  {
   "cell_type": "code",
   "execution_count": 3,
   "metadata": {
    "colab": {
     "base_uri": "https://localhost:8080/"
    },
    "id": "JsBYPv49y0_i",
    "outputId": "331c2762-fd65-4374-f915-0694c9bed402"
   },
   "outputs": [
    {
     "name": "stdout",
     "output_type": "stream",
     "text": [
      "<class 'pandas.core.frame.DataFrame'>\n",
      "RangeIndex: 5351 entries, 0 to 5350\n",
      "Data columns (total 24 columns):\n",
      " #   Column              Non-Null Count  Dtype  \n",
      "---  ------              --------------  -----  \n",
      " 0   CDREDE              5351 non-null   int64  \n",
      " 1   DE                  5351 non-null   object \n",
      " 2   CODMUN              5351 non-null   int64  \n",
      " 3   MUN                 5351 non-null   object \n",
      " 4   CATEG               5351 non-null   int64  \n",
      " 5   COD_ESC             5351 non-null   int64  \n",
      " 6   TIPOESC             5351 non-null   int64  \n",
      " 7   CODVINC             259 non-null    float64\n",
      " 8   NOMESC              5351 non-null   object \n",
      " 9   ENDESC              5351 non-null   object \n",
      " 10  NUMESC              5327 non-null   object \n",
      " 11  BAIESC              5348 non-null   object \n",
      " 12  EMAIL               5273 non-null   object \n",
      " 13  FONE1               5328 non-null   float64\n",
      " 14  ZONA                5350 non-null   float64\n",
      " 15  ED_INFANTIL         5351 non-null   int64  \n",
      " 16  CLASSES ESPECIAIS   5351 non-null   int64  \n",
      " 17  SALA DE RECURSO     5351 non-null   int64  \n",
      " 18  ANOS INICIAIS       5351 non-null   int64  \n",
      " 19  ANOS FINAIS         5351 non-null   int64  \n",
      " 20  ENSINO MEDIO        5351 non-null   int64  \n",
      " 21  EJA FUNDAMENTA_AI   5351 non-null   int64  \n",
      " 22  EJA FUNDAMENTAL_AF  5351 non-null   int64  \n",
      " 23  EJA ENSINO MEDIO    5351 non-null   int64  \n",
      "dtypes: float64(3), int64(14), object(7)\n",
      "memory usage: 1003.4+ KB\n"
     ]
    }
   ],
   "source": [
    "escolas.info()"
   ]
  },
  {
   "cell_type": "markdown",
   "metadata": {
    "id": "NwjcqMS4N-mD"
   },
   "source": [
    "### Distribuição de frequências\n",
    "\n",
    "5. Vamos observar a distribuição de alguns atributos, gerando o histograma do atributo **ANOS INICIAIS** com a função **displot()**. "
   ]
  },
  {
   "cell_type": "code",
   "execution_count": 17,
   "metadata": {
    "colab": {
     "base_uri": "https://localhost:8080/",
     "height": 365
    },
    "id": "qpmBtu0uQhNA",
    "outputId": "830b3e91-8e19-4fad-c960-2fb935da8e52"
   },
   "outputs": [
    {
     "data": {
      "image/png": "[encoded data removed]",
      "text/plain": [
       "<Figure size 360x360 with 1 Axes>"
      ]
     },
     "metadata": {},
     "output_type": "display_data"
    }
   ],
   "source": [
    "sb.displot(escolas['ANOS INICIAIS'])\n",
    "plt.show()"
   ]
  },
  {
   "cell_type": "markdown",
   "metadata": {
    "id": "vBQd56opXr4s"
   },
   "source": [
    "6. Os dados têm muitos valores 0 no campo **ANOS INICIAIS** porque há escolas que têm somente os anos finais do fundamental, outras têm somente ensino médio etc. Vamos filtrar os dados e ver novamente selecionando o valor de 10 pastas para o histograma."
   ]
  },
  {
   "cell_type": "code",
   "execution_count": 23,
   "metadata": {
    "colab": {
     "base_uri": "https://localhost:8080/",
     "height": 365
    },
    "id": "pM14yqrNWDjg",
    "outputId": "cbd85fcf-f070-4f99-8db0-ec520dc0639f"
   },
   "outputs": [
    {
     "data": {
      "image/png": "[encoded data removed]",
      "text/plain": [
       "<Figure size 360x360 with 1 Axes>"
      ]
     },
     "metadata": {},
     "output_type": "display_data"
    }
   ],
   "source": [
    "filtro_escolas = escolas[escolas['ANOS INICIAIS'] > 0]\n",
    "sb.displot(filtro_escolas['ANOS INICIAIS'],bins=10)\n",
    "plt.show()"
   ]
  },
  {
   "cell_type": "markdown",
   "metadata": {
    "id": "p5yJj5TDYllT"
   },
   "source": [
    "7. Vamos olhar o atributo **ANOS FINAIS**, já filtrando escolas sem alunos destes anos."
   ]
  },
  {
   "cell_type": "code",
   "execution_count": 6,
   "metadata": {
    "colab": {
     "base_uri": "https://localhost:8080/",
     "height": 365
    },
    "id": "uvn1m7xWfWWe",
    "outputId": "16baa306-ed6e-4d11-f8a7-c6f61133f11e"
   },
   "outputs": [
    {
     "data": {
      "image/png": "[encoded data removed]",
      "text/plain": [
       "<Figure size 360x360 with 1 Axes>"
      ]
     },
     "metadata": {},
     "output_type": "display_data"
    }
   ],
   "source": [
    "filtro_escolas = escolas[escolas['ANOS FINAIS'] > 0]\n",
    "sb.displot(filtro_escolas['ANOS FINAIS'],bins=10)\n",
    "plt.show()"
   ]
  },
  {
   "cell_type": "markdown",
   "metadata": {
    "id": "PjKB6r72ft6j"
   },
   "source": [
    "8. Para o atributo **ENSINO MEDIO** faremos igual."
   ]
  },
  {
   "cell_type": "code",
   "execution_count": 7,
   "metadata": {
    "colab": {
     "base_uri": "https://localhost:8080/",
     "height": 365
    },
    "id": "oXU796qmf3K6",
    "outputId": "fe461c95-8f93-436c-87e2-03f04487df0d"
   },
   "outputs": [
    {
     "data": {
      "image/png": "[encoded data removed]",
      "text/plain": [
       "<Figure size 360x360 with 1 Axes>"
      ]
     },
     "metadata": {},
     "output_type": "display_data"
    }
   ],
   "source": [
    "filtro_escolas = escolas[escolas['ENSINO MEDIO'] > 0]\n",
    "sb.displot(filtro_escolas['ENSINO MEDIO'],bins=10) \n",
    "plt.show()"
   ]
  },
  {
   "cell_type": "markdown",
   "metadata": {
    "id": "C8m44EQsguRM"
   },
   "source": [
    "Podemos observar que a maioria das escolas nas três faixas de ensino tem uma maior concentração de estudantes na faixa de 250 a 500 alunos."
   ]
  },
  {
   "cell_type": "markdown",
   "metadata": {
    "id": "MA7XNt0shpwJ"
   },
   "source": [
    "9. Que tal agora olharmos a proporção de alunos no ensino regular dos anos iniciais e finais do fundamental e do ensino médio? \n",
    "\n",
    "Vamos somar o total de alunos matriculados em cada período e gerar um gráfico de setores usando a função **pie()** do mattplotlib.\n",
    "\n",
    "O total de alunos desses períodos é de mais de 3.3 milhões."
   ]
  },
  {
   "cell_type": "code",
   "execution_count": 8,
   "metadata": {
    "colab": {
     "base_uri": "https://localhost:8080/"
    },
    "id": "XqttJTC5kGj-",
    "outputId": "2648381a-56e0-4d9c-f3f7-4650eb297147"
   },
   "outputs": [
    {
     "data": {
      "text/plain": [
       "3319779"
      ]
     },
     "execution_count": 8,
     "metadata": {},
     "output_type": "execute_result"
    }
   ],
   "source": [
    "fundamental_iniciais = escolas['ANOS INICIAIS'].sum()\n",
    "fundamental_finais = escolas['ANOS FINAIS'].sum()\n",
    "medio = escolas['ENSINO MEDIO'].sum()\n",
    "(fundamental_iniciais + fundamental_finais + medio)"
   ]
  },
  {
   "cell_type": "markdown",
   "metadata": {
    "id": "W4kbFxPJswO2"
   },
   "source": [
    "A soma dos valores de cada um dos três períodos serão os dados passados como uma lista **alunos** para a função **pie**. Vamos passar também os rótulos para identificar os dados como uma lista **periodo**. O parâmetro **autopct** coloca os percentuais dos dados no gráfico no formato desejado."
   ]
  },
  {
   "cell_type": "code",
   "execution_count": 27,
   "metadata": {
    "colab": {
     "base_uri": "https://localhost:8080/",
     "height": 466
    },
    "id": "zQqJyXBKsxs5",
    "outputId": "13b1d1a8-7e04-4346-80cf-981813b803ba"
   },
   "outputs": [
    {
     "data": {
      "image/png": "[encoded data removed]",
      "text/plain": [
       "<Figure size 1080x576 with 1 Axes>"
      ]
     },
     "metadata": {},
     "output_type": "display_data"
    }
   ],
   "source": [
    "alunos = [fundamental_iniciais,fundamental_finais,medio]\n",
    "periodo = ['fundamental anos iniciais', 'fundamental anos finais', 'ensino medio']\n",
    "\n",
    "plt.pie(alunos,labels=periodo,autopct = '%0.0f%%')\n",
    "plt.show()"
   ]
  },
  {
   "cell_type": "markdown",
   "metadata": {
    "id": "dC7WTBWGrEbe"
   },
   "source": [
    "Assim, vemos que as maiores concentrações de alunos do ensino público estadual são do ensino fundamentais nos anos finais, seguido de perto pelos alunos do ensino médio.\n",
    "\n",
    "Para simplificar o exemplo, não estamos considerando aqui os alunos do EJA (ensino de jovens e adultos) nem os alunos do ensino infantil."
   ]
  },
  {
   "cell_type": "markdown",
   "metadata": {
    "id": "vt5W3yUQv_IC"
   },
   "source": [
    "### Posição relativa\n",
    "\n",
    "10. Vamos seguir olhando as medidas de posição relativa dos dados usando o diagrama de caixa (gráfico boxplot) do ensino médio."
   ]
  },
  {
   "cell_type": "code",
   "execution_count": 10,
   "metadata": {
    "colab": {
     "base_uri": "https://localhost:8080/",
     "height": 466
    },
    "id": "tQ8nq57Zimd0",
    "outputId": "66f4ea61-4d4a-4ac9-f3b1-08452c5c52c6"
   },
   "outputs": [
    {
     "data": {
      "image/png": "[encoded data removed]",
      "text/plain": [
       "<Figure size 1080x576 with 1 Axes>"
      ]
     },
     "metadata": {},
     "output_type": "display_data"
    }
   ],
   "source": [
    "filtro_escolas = escolas[escolas['ENSINO MEDIO'] > 0]\n",
    "sb.boxplot(y=filtro_escolas['ENSINO MEDIO'])\n",
    "plt.show()"
   ]
  },
  {
   "cell_type": "markdown",
   "metadata": {
    "id": "EIsA1LaZYpxs"
   },
   "source": [
    "O boxplot nos mostra que há uma grande concentração de escolas com aproximadamente de 200 a 500 estudantes do ensino médio."
   ]
  },
  {
   "cell_type": "markdown",
   "metadata": {
    "id": "QMJ4TLWd-4y2"
   },
   "source": [
    "### Tendência central e dispersão\n",
    "\n",
    "11. A seguir, podemos ver as medidas de tendência central e dispersão desses dados com a função **describe()**, olhando a distribuição desses dados. Por exemplo, a média (mean) de alunos dos anos finais do ensino fundamental por escola é de ~257, com desvio padrão de 234,97. Podemos ver também os valores dos quartis para esse atributo."
   ]
  },
  {
   "cell_type": "code",
   "execution_count": 11,
   "metadata": {
    "colab": {
     "base_uri": "https://localhost:8080/"
    },
    "id": "fpVzouxc8oS8",
    "outputId": "7942209f-5d5c-47fb-e00f-30943378fba0"
   },
   "outputs": [
    {
     "data": {
      "text/plain": [
       "count    5351.000000\n",
       "mean      257.373388\n",
       "std       234.971969\n",
       "min         0.000000\n",
       "25%         0.000000\n",
       "50%       253.000000\n",
       "75%       410.500000\n",
       "max      1467.000000\n",
       "Name: ANOS FINAIS, dtype: float64"
      ]
     },
     "execution_count": 11,
     "metadata": {},
     "output_type": "execute_result"
    }
   ],
   "source": [
    "escolas['ANOS FINAIS'].describe()"
   ]
  },
  {
   "cell_type": "markdown",
   "metadata": {
    "id": "v8uoJ7vDtbAN"
   },
   "source": [
    "12. Vamos agora olhar se há alguma correlação entre atributos desses dados?\n",
    "Para isso vamos usar o gráfico de dispersão para comparar os atributos com a quantidade de alunos das escolas com estudantes do ensino fundamental dos anos iniciais e finais. \n",
    "Primeiro, filtramos escolas cujo número de estudantes seja maior que zero em ambos os casos. Depois, usamos a função **scatterplot()** para plotar os dados."
   ]
  },
  {
   "cell_type": "code",
   "execution_count": 12,
   "metadata": {
    "colab": {
     "base_uri": "https://localhost:8080/",
     "height": 502
    },
    "id": "LXsO279jwAp6",
    "outputId": "c3a343e9-c907-4851-81ff-c4eebaa3bd88"
   },
   "outputs": [
    {
     "data": {
      "image/png": "[encoded data removed]",
      "text/plain": [
       "<Figure size 1080x576 with 1 Axes>"
      ]
     },
     "metadata": {},
     "output_type": "display_data"
    }
   ],
   "source": [
    "filtro_escolas = escolas[(escolas['ANOS INICIAIS'] > 0) & (escolas['ANOS FINAIS'] > 0)]\n",
    "sb.scatterplot(x=filtro_escolas['ANOS INICIAIS'],y=filtro_escolas['ANOS FINAIS'])\n",
    "plt.show()"
   ]
  },
  {
   "cell_type": "markdown",
   "metadata": {
    "id": "hnCgsT16jg10"
   },
   "source": [
    "Embora haja alguma dispersão pelo gráfico, podemos ver uma grande concentração de escolas de ambos os períodos de ensino fundamental na faixa entre 1 e 600 estudantes, mostrando uma correlação positiva. Isso faz sentido, visto que filtramos escolas que abrigam os dois períodos de ensino e que, portanto, têm uma capacidade proporcional de alocar esses estudantes. Além do mais, a quantidade de estudantes tende a ser proporcional ao local na qual elas estão."
   ]
  },
  {
   "cell_type": "markdown",
   "metadata": {
    "id": "qykUYJwjZYjG"
   },
   "source": [
    "Com isso, concluímos o exercício de análise descritiva de dados desta semana. \n",
    "Para praticar mais, sugiro que você escolha um outro conjunto de dados do seu interesse e use ADD para conhecer melhor as características dos dados.\n",
    "\n",
    "Algumas sugestões de bases são: \n",
    "\n",
    "* [Portal Brasileiro de Dados Abertos](https://dados.gov.br/)\n",
    "* [Basedosdados.org](https://basedosdados.org/)\n",
    "* [Kaggle](https://www.kaggle.com/datasets)"
   ]
  },
  {
   "cell_type": "code",
   "execution_count": null,
   "metadata": {
    "id": "U93TbRNNNfvd"
   },
   "outputs": [],
   "source": []
  }
 ],
 "metadata": {
  "colab": {
   "collapsed_sections": [],
   "name": "semana-3-tutorial-add.ipynb",
   "provenance": []
  },
  "kernelspec": {
   "display_name": "Python 3 (ipykernel)",
   "language": "python",
   "name": "python3"
  },
  "language_info": {
   "codemirror_mode": {
    "name": "ipython",
    "version": 3
   },
   "file_extension": ".py",
   "mimetype": "text/x-python",
   "name": "python",
   "nbconvert_exporter": "python",
   "pygments_lexer": "ipython3",
   "version": "3.10.5"
  }
 },
 "nbformat": 4,
 "nbformat_minor": 1
}
